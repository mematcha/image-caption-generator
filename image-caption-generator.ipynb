{
 "cells": [
  {
   "cell_type": "markdown",
   "metadata": {},
   "source": [
    "# Image Caption Generator"
   ]
  },
  {
   "cell_type": "markdown",
   "metadata": {},
   "source": [
    "This notebook is a to-do guide about generating captions for images and it's comparision to the latest models for generating these captions. "
   ]
  },
  {
   "cell_type": "markdown",
   "metadata": {},
   "source": [
    "# Problem Description"
   ]
  },
  {
   "cell_type": "markdown",
   "metadata": {},
   "source": [
    "Image caption generation models are models that analyze images and automatically generate relevant captions. \n",
    "\n",
    "They combine techniques from computer vision and natural language processing to “understand” an image's visual content and express it in natural language. This task is complex because it requires not only recognizing objects in an image but also understanding their context, relationships, and the ability to translate this understanding into a coherent sentence.\n",
    "\n",
    "## Intuition\n",
    "\n",
    "- Images can be compressed to vectors of a multitude of features. These can be generated using a CNN (Convolutional Neural Network).\n",
    "\n",
    "- Our goal is to generate a suitable `caption` for the image given, which is a sequence of texts. We can generate a sequence using an RNN (Recurrent Neural Network) like LSTM(Long-Short Term Memory) or GRU (Gated Recurrent Unit)\n",
    "\n",
    "- We push the Image vector(feature vector) as our initial state for RNN and try to generate text at each time-step of the RNN using the feature vector.\n",
    "\n",
    "- While training, we will already have our images and captions at the ready. Get our feature vector of the image and push the feature vector against a untrained/ pre-trained RNN and compare it with our actual caption output. Train it with back-prop to get better at accuracy. "
   ]
  },
  {
   "cell_type": "markdown",
   "metadata": {},
   "source": [
    "# Strategy"
   ]
  },
  {
   "cell_type": "markdown",
   "metadata": {},
   "source": [
    "- Use the pretrained `Inception_V3` model to generate the feature vector of the image.\n",
    "\n",
    "- Pass it through an RNN to generate an output embedding and compare it to the actual output in the embedding form, use an error function with these two and backprop to get a fix of this hybrid model, to generate accurate captions. \n",
    "\n",
    "- We are going to implement both `LSTM` and `GRU` architectures as our caption generation models.\n",
    "\n",
    "- We are using the `MSCOCO` Dataset for our task of image caption generation, with an 80-20 train-test split."
   ]
  },
  {
   "cell_type": "markdown",
   "metadata": {},
   "source": [
    "# Code"
   ]
  },
  {
   "cell_type": "markdown",
   "metadata": {},
   "source": [
    "## Installs and Environment Setup"
   ]
  },
  {
   "cell_type": "code",
   "execution_count": 3,
   "metadata": {},
   "outputs": [
    {
     "name": "stdout",
     "output_type": "stream",
     "text": [
      "Requirement already satisfied: numpy in /Users/smatcha/anaconda3/lib/python3.11/site-packages (1.26.4)\n",
      "Requirement already satisfied: tensorflow in /Users/smatcha/anaconda3/lib/python3.11/site-packages (2.17.0)\n",
      "Requirement already satisfied: absl-py>=1.0.0 in /Users/smatcha/anaconda3/lib/python3.11/site-packages (from tensorflow) (1.4.0)\n",
      "Requirement already satisfied: astunparse>=1.6.0 in /Users/smatcha/anaconda3/lib/python3.11/site-packages (from tensorflow) (1.6.3)\n",
      "Requirement already satisfied: flatbuffers>=24.3.25 in /Users/smatcha/anaconda3/lib/python3.11/site-packages (from tensorflow) (24.3.25)\n",
      "Requirement already satisfied: gast!=0.5.0,!=0.5.1,!=0.5.2,>=0.2.1 in /Users/smatcha/anaconda3/lib/python3.11/site-packages (from tensorflow) (0.5.4)\n",
      "Requirement already satisfied: google-pasta>=0.1.1 in /Users/smatcha/anaconda3/lib/python3.11/site-packages (from tensorflow) (0.2.0)\n",
      "Requirement already satisfied: h5py>=3.10.0 in /Users/smatcha/anaconda3/lib/python3.11/site-packages (from tensorflow) (3.11.0)\n",
      "Requirement already satisfied: libclang>=13.0.0 in /Users/smatcha/anaconda3/lib/python3.11/site-packages (from tensorflow) (16.0.6)\n",
      "Requirement already satisfied: ml-dtypes<0.5.0,>=0.3.1 in /Users/smatcha/anaconda3/lib/python3.11/site-packages (from tensorflow) (0.3.2)\n",
      "Requirement already satisfied: opt-einsum>=2.3.2 in /Users/smatcha/anaconda3/lib/python3.11/site-packages (from tensorflow) (3.3.0)\n",
      "Requirement already satisfied: packaging in /Users/smatcha/anaconda3/lib/python3.11/site-packages (from tensorflow) (23.2)\n",
      "Requirement already satisfied: protobuf!=4.21.0,!=4.21.1,!=4.21.2,!=4.21.3,!=4.21.4,!=4.21.5,<5.0.0dev,>=3.20.3 in /Users/smatcha/anaconda3/lib/python3.11/site-packages (from tensorflow) (4.25.5)\n",
      "Requirement already satisfied: requests<3,>=2.21.0 in /Users/smatcha/anaconda3/lib/python3.11/site-packages (from tensorflow) (2.31.0)\n",
      "Requirement already satisfied: setuptools in /Users/smatcha/anaconda3/lib/python3.11/site-packages (from tensorflow) (68.0.0)\n",
      "Requirement already satisfied: six>=1.12.0 in /Users/smatcha/anaconda3/lib/python3.11/site-packages (from tensorflow) (1.16.0)\n",
      "Requirement already satisfied: termcolor>=1.1.0 in /Users/smatcha/anaconda3/lib/python3.11/site-packages (from tensorflow) (2.4.0)\n",
      "Requirement already satisfied: typing-extensions>=3.6.6 in /Users/smatcha/anaconda3/lib/python3.11/site-packages (from tensorflow) (4.12.2)\n",
      "Requirement already satisfied: wrapt>=1.11.0 in /Users/smatcha/anaconda3/lib/python3.11/site-packages (from tensorflow) (1.14.1)\n",
      "Requirement already satisfied: grpcio<2.0,>=1.24.3 in /Users/smatcha/anaconda3/lib/python3.11/site-packages (from tensorflow) (1.60.1)\n",
      "Requirement already satisfied: tensorboard<2.18,>=2.17 in /Users/smatcha/anaconda3/lib/python3.11/site-packages (from tensorflow) (2.17.1)\n",
      "Requirement already satisfied: keras>=3.2.0 in /Users/smatcha/anaconda3/lib/python3.11/site-packages (from tensorflow) (3.6.0)\n",
      "Requirement already satisfied: tensorflow-io-gcs-filesystem>=0.23.1 in /Users/smatcha/anaconda3/lib/python3.11/site-packages (from tensorflow) (0.36.0)\n",
      "Requirement already satisfied: wheel<1.0,>=0.23.0 in /Users/smatcha/anaconda3/lib/python3.11/site-packages (from astunparse>=1.6.0->tensorflow) (0.38.4)\n",
      "Requirement already satisfied: rich in /Users/smatcha/anaconda3/lib/python3.11/site-packages (from keras>=3.2.0->tensorflow) (13.7.1)\n",
      "Requirement already satisfied: namex in /Users/smatcha/anaconda3/lib/python3.11/site-packages (from keras>=3.2.0->tensorflow) (0.0.8)\n",
      "Requirement already satisfied: optree in /Users/smatcha/anaconda3/lib/python3.11/site-packages (from keras>=3.2.0->tensorflow) (0.11.0)\n",
      "Requirement already satisfied: charset-normalizer<4,>=2 in /Users/smatcha/anaconda3/lib/python3.11/site-packages (from requests<3,>=2.21.0->tensorflow) (2.0.4)\n",
      "Requirement already satisfied: idna<4,>=2.5 in /Users/smatcha/anaconda3/lib/python3.11/site-packages (from requests<3,>=2.21.0->tensorflow) (3.4)\n",
      "Requirement already satisfied: urllib3<3,>=1.21.1 in /Users/smatcha/anaconda3/lib/python3.11/site-packages (from requests<3,>=2.21.0->tensorflow) (1.26.16)\n",
      "Requirement already satisfied: certifi>=2017.4.17 in /Users/smatcha/anaconda3/lib/python3.11/site-packages (from requests<3,>=2.21.0->tensorflow) (2024.2.2)\n",
      "Requirement already satisfied: markdown>=2.6.8 in /Users/smatcha/anaconda3/lib/python3.11/site-packages (from tensorboard<2.18,>=2.17->tensorflow) (3.4.1)\n",
      "Requirement already satisfied: tensorboard-data-server<0.8.0,>=0.7.0 in /Users/smatcha/anaconda3/lib/python3.11/site-packages (from tensorboard<2.18,>=2.17->tensorflow) (0.7.2)\n",
      "Requirement already satisfied: werkzeug>=1.0.1 in /Users/smatcha/anaconda3/lib/python3.11/site-packages (from tensorboard<2.18,>=2.17->tensorflow) (2.2.3)\n",
      "Requirement already satisfied: MarkupSafe>=2.1.1 in /Users/smatcha/anaconda3/lib/python3.11/site-packages (from werkzeug>=1.0.1->tensorboard<2.18,>=2.17->tensorflow) (2.1.1)\n",
      "Requirement already satisfied: markdown-it-py>=2.2.0 in /Users/smatcha/anaconda3/lib/python3.11/site-packages (from rich->keras>=3.2.0->tensorflow) (2.2.0)\n",
      "Requirement already satisfied: pygments<3.0.0,>=2.13.0 in /Users/smatcha/anaconda3/lib/python3.11/site-packages (from rich->keras>=3.2.0->tensorflow) (2.15.1)\n",
      "Requirement already satisfied: mdurl~=0.1 in /Users/smatcha/anaconda3/lib/python3.11/site-packages (from markdown-it-py>=2.2.0->rich->keras>=3.2.0->tensorflow) (0.1.0)\n",
      "Note: you may need to restart the kernel to use updated packages.\n",
      "Requirement already satisfied: keras in /Users/smatcha/anaconda3/lib/python3.11/site-packages (3.6.0)\n",
      "Requirement already satisfied: absl-py in /Users/smatcha/anaconda3/lib/python3.11/site-packages (from keras) (1.4.0)\n",
      "Requirement already satisfied: numpy in /Users/smatcha/anaconda3/lib/python3.11/site-packages (from keras) (1.26.4)\n",
      "Requirement already satisfied: rich in /Users/smatcha/anaconda3/lib/python3.11/site-packages (from keras) (13.7.1)\n",
      "Requirement already satisfied: namex in /Users/smatcha/anaconda3/lib/python3.11/site-packages (from keras) (0.0.8)\n",
      "Requirement already satisfied: h5py in /Users/smatcha/anaconda3/lib/python3.11/site-packages (from keras) (3.11.0)\n",
      "Requirement already satisfied: optree in /Users/smatcha/anaconda3/lib/python3.11/site-packages (from keras) (0.11.0)\n",
      "Requirement already satisfied: ml-dtypes in /Users/smatcha/anaconda3/lib/python3.11/site-packages (from keras) (0.3.2)\n",
      "Requirement already satisfied: packaging in /Users/smatcha/anaconda3/lib/python3.11/site-packages (from keras) (23.2)\n",
      "Requirement already satisfied: typing-extensions>=4.0.0 in /Users/smatcha/anaconda3/lib/python3.11/site-packages (from optree->keras) (4.12.2)\n",
      "Requirement already satisfied: markdown-it-py>=2.2.0 in /Users/smatcha/anaconda3/lib/python3.11/site-packages (from rich->keras) (2.2.0)\n",
      "Requirement already satisfied: pygments<3.0.0,>=2.13.0 in /Users/smatcha/anaconda3/lib/python3.11/site-packages (from rich->keras) (2.15.1)\n",
      "Requirement already satisfied: mdurl~=0.1 in /Users/smatcha/anaconda3/lib/python3.11/site-packages (from markdown-it-py>=2.2.0->rich->keras) (0.1.0)\n",
      "Note: you may need to restart the kernel to use updated packages.\n",
      "Collecting keras_nlp\n",
      "  Downloading keras_nlp-0.17.0-py3-none-any.whl.metadata (1.2 kB)\n",
      "Collecting keras-hub==0.17.0 (from keras_nlp)\n",
      "  Downloading keras_hub-0.17.0-py3-none-any.whl.metadata (7.4 kB)\n",
      "Requirement already satisfied: absl-py in /Users/smatcha/anaconda3/lib/python3.11/site-packages (from keras-hub==0.17.0->keras_nlp) (1.4.0)\n",
      "Requirement already satisfied: numpy in /Users/smatcha/anaconda3/lib/python3.11/site-packages (from keras-hub==0.17.0->keras_nlp) (1.26.4)\n",
      "Requirement already satisfied: packaging in /Users/smatcha/anaconda3/lib/python3.11/site-packages (from keras-hub==0.17.0->keras_nlp) (23.2)\n",
      "Requirement already satisfied: regex in /Users/smatcha/anaconda3/lib/python3.11/site-packages (from keras-hub==0.17.0->keras_nlp) (2022.7.9)\n",
      "Requirement already satisfied: rich in /Users/smatcha/anaconda3/lib/python3.11/site-packages (from keras-hub==0.17.0->keras_nlp) (13.7.1)\n",
      "Requirement already satisfied: kagglehub in /Users/smatcha/anaconda3/lib/python3.11/site-packages (from keras-hub==0.17.0->keras_nlp) (0.2.3)\n",
      "Requirement already satisfied: requests in /Users/smatcha/anaconda3/lib/python3.11/site-packages (from kagglehub->keras-hub==0.17.0->keras_nlp) (2.31.0)\n",
      "Requirement already satisfied: tqdm in /Users/smatcha/anaconda3/lib/python3.11/site-packages (from kagglehub->keras-hub==0.17.0->keras_nlp) (4.65.0)\n",
      "Requirement already satisfied: markdown-it-py>=2.2.0 in /Users/smatcha/anaconda3/lib/python3.11/site-packages (from rich->keras-hub==0.17.0->keras_nlp) (2.2.0)\n",
      "Requirement already satisfied: pygments<3.0.0,>=2.13.0 in /Users/smatcha/anaconda3/lib/python3.11/site-packages (from rich->keras-hub==0.17.0->keras_nlp) (2.15.1)\n",
      "Requirement already satisfied: mdurl~=0.1 in /Users/smatcha/anaconda3/lib/python3.11/site-packages (from markdown-it-py>=2.2.0->rich->keras-hub==0.17.0->keras_nlp) (0.1.0)\n",
      "Requirement already satisfied: charset-normalizer<4,>=2 in /Users/smatcha/anaconda3/lib/python3.11/site-packages (from requests->kagglehub->keras-hub==0.17.0->keras_nlp) (2.0.4)\n",
      "Requirement already satisfied: idna<4,>=2.5 in /Users/smatcha/anaconda3/lib/python3.11/site-packages (from requests->kagglehub->keras-hub==0.17.0->keras_nlp) (3.4)\n",
      "Requirement already satisfied: urllib3<3,>=1.21.1 in /Users/smatcha/anaconda3/lib/python3.11/site-packages (from requests->kagglehub->keras-hub==0.17.0->keras_nlp) (1.26.16)\n",
      "Requirement already satisfied: certifi>=2017.4.17 in /Users/smatcha/anaconda3/lib/python3.11/site-packages (from requests->kagglehub->keras-hub==0.17.0->keras_nlp) (2024.2.2)\n",
      "Downloading keras_nlp-0.17.0-py3-none-any.whl (2.0 kB)\n",
      "Downloading keras_hub-0.17.0-py3-none-any.whl (644 kB)\n",
      "\u001b[2K   \u001b[90m━━━━━━━━━━━━━━━━━━━━━━━━━━━━━━━━━━━━━━━━\u001b[0m \u001b[32m644.1/644.1 kB\u001b[0m \u001b[31m11.6 MB/s\u001b[0m eta \u001b[36m0:00:00\u001b[0m\n",
      "\u001b[?25hInstalling collected packages: keras-hub, keras_nlp\n",
      "Successfully installed keras-hub-0.17.0 keras_nlp-0.17.0\n",
      "Note: you may need to restart the kernel to use updated packages.\n"
     ]
    }
   ],
   "source": [
    "%pip install numpy tensorflow\n",
    "%pip install keras # For latest versions of tensorflow, it is advised to use keras externally \n",
    "%pip install keras_nlp"
   ]
  },
  {
   "cell_type": "markdown",
   "metadata": {},
   "source": [
    "## Imports"
   ]
  },
  {
   "cell_type": "code",
   "execution_count": 4,
   "metadata": {},
   "outputs": [],
   "source": [
    "import importlib, importlib_metadata"
   ]
  },
  {
   "cell_type": "code",
   "execution_count": 5,
   "metadata": {},
   "outputs": [],
   "source": [
    "def print_module_version(module_name):\n",
    "    try:\n",
    "        version = importlib.metadata.version(module_name)\n",
    "        print(f\"{module_name} Version: \",version)\n",
    "    except importlib.metadata.PackageNotFoundError:\n",
    "         print(f\"{module_name} is not installed or version information is not available\")"
   ]
  },
  {
   "cell_type": "code",
   "execution_count": 10,
   "metadata": {},
   "outputs": [
    {
     "name": "stdout",
     "output_type": "stream",
     "text": [
      "numpy Version:  1.26.4\n",
      "pandas Version:  2.0.3\n",
      "tensorflow Version:  2.17.0\n",
      "keras Version:  3.6.0\n",
      "pycocotools Version:  2.0\n",
      "sklearn is not installed or version information is not available\n",
      "nltk Version:  3.8.1\n",
      "scipy Version:  1.11.1\n",
      "pickle is not installed or version information is not available\n",
      "os is not installed or version information is not available\n",
      "glob is not installed or version information is not available\n",
      "PIL is not installed or version information is not available\n",
      "tqdm Version:  4.65.0\n"
     ]
    }
   ],
   "source": [
    "import numpy as np\n",
    "print_module_version(\"numpy\")\n",
    "import pandas as pd\n",
    "print_module_version(\"pandas\")\n",
    "import tensorflow as tf\n",
    "print_module_version(\"tensorflow\")\n",
    "from keras.applications import InceptionV3\n",
    "from keras.models import Model\n",
    "from keras.layers import Input, Embedding, LSTM, GRU, Dense, Dropout, Add\n",
    "from keras_nlp.tokenizers import Tokenizer\n",
    "from keras.preprocessing.sequence import pad_sequences\n",
    "from keras.utils import to_categorical\n",
    "print_module_version(\"keras\")\n",
    "# Importing Pycoctools for potential dataset handling from the COCO API -- Python Version\n",
    "import pycocotools\n",
    "print_module_version(\"pycocotools\")\n",
    "from sklearn.model_selection import train_test_split\n",
    "print_module_version(\"sklearn\")\n",
    "from nltk.translate.bleu_score import sentence_bleu\n",
    "print_module_version(\"nltk\")\n",
    "from scipy.spatial.distance import cosine\n",
    "print_module_version(\"scipy\")\n",
    "\n",
    "import pickle\n",
    "print_module_version(\"pickle\")\n",
    "import os\n",
    "print_module_version(\"os\")\n",
    "import glob\n",
    "print_module_version(\"glob\")\n",
    "from PIL import Image\n",
    "print_module_version(\"PIL\")\n",
    "from tqdm import tqdm\n",
    "print_module_version(\"tqdm\")"
   ]
  },
  {
   "cell_type": "markdown",
   "metadata": {},
   "source": [
    "### Installing MSCOCO Dataset"
   ]
  },
  {
   "cell_type": "markdown",
   "metadata": {},
   "source": [
    "- We have installed it with Github Import from [CocoAPI](https://github.com/cocodataset/cocoapi)\n",
    "- Used make tool to install from MakeFile of the `cocoapi/PythonAPI` folder in the repository, with the command below. \n",
    "\n",
    "$$ make -f MakeFile $$  "
   ]
  },
  {
   "cell_type": "markdown",
   "metadata": {},
   "source": [
    "## Implementation"
   ]
  },
  {
   "cell_type": "code",
   "execution_count": 9,
   "metadata": {},
   "outputs": [],
   "source": [
    "inception_model_pretrained = InceptionV3(weights='imagenet',classifier_activation=None)"
   ]
  },
  {
   "cell_type": "markdown",
   "metadata": {},
   "source": [
    "# Observations"
   ]
  },
  {
   "cell_type": "markdown",
   "metadata": {},
   "source": [
    "# Conclusion"
   ]
  },
  {
   "cell_type": "markdown",
   "metadata": {},
   "source": [
    "# Scope"
   ]
  },
  {
   "cell_type": "markdown",
   "metadata": {},
   "source": []
  }
 ],
 "metadata": {
  "kernelspec": {
   "display_name": "base",
   "language": "python",
   "name": "python3"
  },
  "language_info": {
   "codemirror_mode": {
    "name": "ipython",
    "version": 3
   },
   "file_extension": ".py",
   "mimetype": "text/x-python",
   "name": "python",
   "nbconvert_exporter": "python",
   "pygments_lexer": "ipython3",
   "version": "3.11.5"
  },
  "orig_nbformat": 4
 },
 "nbformat": 4,
 "nbformat_minor": 2
}
